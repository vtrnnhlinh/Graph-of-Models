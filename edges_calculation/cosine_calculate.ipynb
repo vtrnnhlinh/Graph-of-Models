{
 "cells": [
  {
   "cell_type": "code",
   "execution_count": 29,
   "metadata": {},
   "outputs": [],
   "source": [
    "import pandas as pd\n",
    "from sklearn.feature_extraction.text import TfidfVectorizer\n",
    "from sklearn.preprocessing import normalize\n",
    "from sklearn.metrics.pairwise import cosine_similarity\n",
    "import numpy as np\n",
    "import os"
   ]
  },
  {
   "cell_type": "code",
   "execution_count": 30,
   "metadata": {},
   "outputs": [],
   "source": [
    "# Load datasets\n",
    "dataset_1 = pd.read_parquet(\"../../datasets/dataset_1.parquet\")\n",
    "# dataset_2 = pd.read_parquet(\"../../datasets/dataset_2.parquet\")\n",
    "dataset_3 = pd.read_parquet(\"../../datasets/dataset_3.parquet\")"
   ]
  },
  {
   "cell_type": "code",
   "execution_count": 31,
   "metadata": {},
   "outputs": [],
   "source": [
    "def clean_ingredients(df: pd.DataFrame) -> pd.Series:\n",
    "    \"\"\"Clean ingredient strings by filling NA and converting to string.\"\"\"\n",
    "    return df['ingredients'].fillna(\"\").astype(str)\n",
    "\n",
    "ingredients_1 = clean_ingredients(dataset_1)\n",
    "#ingredients_2 = clean_ingredients(dataset_2)\n",
    "ingredients_3 = clean_ingredients(dataset_3)\n"
   ]
  },
  {
   "cell_type": "code",
   "execution_count": 32,
   "metadata": {},
   "outputs": [],
   "source": [
    "# ----------------------\n",
    "# TF-IDF Vectorization\n",
    "# ----------------------\n",
    "vectorizer = TfidfVectorizer(stop_words='english', max_features=10000)\n",
    "tfidf_1 = vectorizer.fit_transform(ingredients_1)\n",
    "tfidf_3 = vectorizer.transform(ingredients_3)\n",
    "\n",
    "# Normalize vectors\n",
    "tfidf_1 = normalize(tfidf_1, norm='l2', axis=1)\n",
    "tfidf_3 = normalize(tfidf_3, norm='l2', axis=1)"
   ]
  },
  {
   "cell_type": "code",
   "execution_count": 33,
   "metadata": {},
   "outputs": [],
   "source": [
    "# From dataset_1 to dataset_3\n",
    "sim_1_to_3 = cosine_similarity(tfidf_1, tfidf_3).mean()\n",
    "\n",
    "# Since cosine similarity is symmetric, sim_3_to_1 == sim_1_to_3\n",
    "avg_similarity = sim_1_to_3\n",
    "\n",
    "# Self-similarities (diagonal) are always 1.0\n",
    "sim_matrix = np.array([\n",
    "    [1.0, avg_similarity],\n",
    "    [avg_similarity, 1.0]\n",
    "])"
   ]
  },
  {
   "cell_type": "code",
   "execution_count": 35,
   "metadata": {},
   "outputs": [
    {
     "name": "stdout",
     "output_type": "stream",
     "text": [
      "Average Cosine Similarity Matrix:\n",
      "           dataset_1  dataset_3\n",
      "dataset_1   1.000000   0.013978\n",
      "dataset_3   0.013978   1.000000\n"
     ]
    }
   ],
   "source": [
    "# Create labels and DataFrame\n",
    "labels = [\"dataset_1\", \"dataset_3\"]\n",
    "sim_df = pd.DataFrame(sim_matrix, index=labels, columns=labels)\n",
    "\n",
    "# ----------------------\n",
    "# Save as CSV\n",
    "# ----------------------\n",
    "output_dir = \"results\"\n",
    "os.makedirs(output_dir, exist_ok=True)\n",
    "sim_df.to_csv(os.path.join(output_dir, \"avg_cosine_similarity_matrix.csv\"))\n",
    "\n",
    "# ----------------------\n",
    "# Print result\n",
    "# ----------------------\n",
    "print(\"Average Cosine Similarity Matrix:\")\n",
    "print(sim_df)"
   ]
  }
 ],
 "metadata": {
  "kernelspec": {
   "display_name": "Graph-of-Models",
   "language": "python",
   "name": "python3"
  },
  "language_info": {
   "codemirror_mode": {
    "name": "ipython",
    "version": 3
   },
   "file_extension": ".py",
   "mimetype": "text/x-python",
   "name": "python",
   "nbconvert_exporter": "python",
   "pygments_lexer": "ipython3",
   "version": "3.12.11"
  }
 },
 "nbformat": 4,
 "nbformat_minor": 2
}
