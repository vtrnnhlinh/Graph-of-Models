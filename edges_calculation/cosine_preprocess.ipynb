{
 "cells": [
  {
   "cell_type": "code",
   "execution_count": 1,
   "metadata": {},
   "outputs": [],
   "source": [
    "import pandas as pd\n",
    "import os\n"
   ]
  },
  {
   "cell_type": "code",
   "execution_count": 2,
   "metadata": {},
   "outputs": [],
   "source": [
    "def merge_parquet_folder(folder_path, output_file):\n",
    "    \"\"\"\n",
    "    Load all .parquet files from a folder, merge them, and save to output_file.\n",
    "\n",
    "    Args:\n",
    "        folder_path (str): Path to the folder containing .parquet files.\n",
    "        output_file (str): Output .parquet file path (e.g. \"merged.parquet\").\n",
    "\n",
    "    Returns:\n",
    "        pd.DataFrame: The merged DataFrame.\n",
    "    \"\"\"\n",
    "    # List all .parquet files in the folder\n",
    "    parquet_files = [os.path.join(folder_path, f)\n",
    "                     for f in os.listdir(folder_path)\n",
    "                     if f.endswith('.parquet')]\n",
    "\n",
    "    if not parquet_files:\n",
    "        raise ValueError(\"No .parquet files found in folder: \" + folder_path)\n",
    "\n",
    "    # Load all files into a list of DataFrames\n",
    "    dataframes = [pd.read_parquet(file) for file in sorted(parquet_files)]\n",
    "\n",
    "    # Merge into a single DataFrame\n",
    "    merged_df = pd.concat(dataframes, ignore_index=True)\n",
    "\n",
    "    # Save to output\n",
    "    merged_df.to_parquet(output_file)\n",
    "\n",
    "    print(f\"Merged {len(parquet_files)} files into {output_file}\")\n",
    "    return merged_df"
   ]
  },
  {
   "cell_type": "code",
   "execution_count": 3,
   "metadata": {},
   "outputs": [
    {
     "name": "stdout",
     "output_type": "stream",
     "text": [
      "Merged 3 files into ../../datasets/dataset_1.parquet\n",
      "Merged 5 files into ../../datasets/dataset_2.parquet\n",
      "Merged 1 files into ../../datasets/dataset_3.parquet\n"
     ]
    }
   ],
   "source": [
    "dataset_1 = merge_parquet_folder(\"../../datasets/dataset_1\", \"../../datasets/dataset_1.parquet\")\n",
    "dataset_2 = merge_parquet_folder(\"../../datasets/dataset_2\", \"../../datasets/dataset_2.parquet\")\n",
    "dataset_3 = merge_parquet_folder(\"../../datasets/dataset_3\", \"../../datasets/dataset_3.parquet\")"
   ]
  }
 ],
 "metadata": {
  "kernelspec": {
   "display_name": "Graph-of-Models",
   "language": "python",
   "name": "python3"
  },
  "language_info": {
   "codemirror_mode": {
    "name": "ipython",
    "version": 3
   },
   "file_extension": ".py",
   "mimetype": "text/x-python",
   "name": "python",
   "nbconvert_exporter": "python",
   "pygments_lexer": "ipython3",
   "version": "3.12.11"
  }
 },
 "nbformat": 4,
 "nbformat_minor": 2
}
