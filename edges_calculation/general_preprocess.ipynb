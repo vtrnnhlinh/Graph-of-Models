{
 "cells": [
  {
   "cell_type": "code",
   "execution_count": 1,
   "metadata": {},
   "outputs": [],
   "source": [
    "import pandas as pd"
   ]
  },
  {
   "cell_type": "code",
   "execution_count": 2,
   "metadata": {},
   "outputs": [],
   "source": [
    "# fruits.parquet\n",
    "df1_fruits = pd.read_parquet(\"../datasets/dataset_1/fruits.parquet\")\n",
    "df1_fruits = df1_fruits.rename(columns={\"fruit\": \"ingredients\"})\n",
    "df1_fruits.to_parquet(\"../datasets/dataset_1/fruits.parquet\")"
   ]
  },
  {
   "cell_type": "code",
   "execution_count": 3,
   "metadata": {},
   "outputs": [],
   "source": [
    "# vegetables_seafood.parquet\n",
    "df1_vegetables_seafood = pd.read_parquet(\"../datasets/dataset_1/vegetables_seafood.parquet\")\n",
    "df1_vegetables_seafood = df1_vegetables_seafood.rename(columns={\"Food and Serving\": \"ingredients\"})\n",
    "df1_vegetables_seafood.to_parquet(\"../datasets/dataset_1/vegetables_seafood.parquet\")"
   ]
  },
  {
   "cell_type": "code",
   "execution_count": 4,
   "metadata": {},
   "outputs": [],
   "source": [
    "# vegetables.parquet\n",
    "df1_vegetables = pd.read_parquet(\"../datasets/dataset_1/vegetables.parquet\")\n",
    "df1_vegetables = df1_vegetables.rename(columns={\"Name\": \"ingredients\"})\n",
    "df1_vegetables.to_parquet(\"../datasets/dataset_1/vegetables.parquet\")"
   ]
  },
  {
   "cell_type": "code",
   "execution_count": 9,
   "metadata": {},
   "outputs": [
    {
     "name": "stdout",
     "output_type": "stream",
     "text": [
      "dataset_2[0].columns: ['ingredients']\n",
      "dataset_2[1].columns: ['ingredients']\n",
      "dataset_2[2].columns: ['ingredients']\n",
      "dataset_2[3].columns: ['ingredients']\n"
     ]
    }
   ],
   "source": [
    "# Create a list of file paths\n",
    "file_paths_ds2 = [\"../datasets/dataset_2/all-recipes_0.parquet\", \"../datasets/dataset_2/all-recipes_1.parquet\", \"../datasets/dataset_2/all-recipes_2.parquet\", \"../datasets/dataset_2/all-recipes_3.parquet\"]\n",
    "\n",
    "# Load each file into a list of DataFrames\n",
    "dataset_2 = [pd.read_parquet(path) for path in file_paths_ds2]\n",
    "for i in range(len(dataset_2)):\n",
    "    dataset_2[i] = dataset_2[i].rename(columns={\"input\": \"ingredients\"})\n"
   ]
  }
 ],
 "metadata": {
  "kernelspec": {
   "display_name": "Python 3",
   "language": "python",
   "name": "python3"
  },
  "language_info": {
   "codemirror_mode": {
    "name": "ipython",
    "version": 3
   },
   "file_extension": ".py",
   "mimetype": "text/x-python",
   "name": "python",
   "nbconvert_exporter": "python",
   "pygments_lexer": "ipython3",
   "version": "3.1.0"
  }
 },
 "nbformat": 4,
 "nbformat_minor": 2
}
