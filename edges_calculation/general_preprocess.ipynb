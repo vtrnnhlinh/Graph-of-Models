{
 "cells": [
  {
   "cell_type": "code",
   "execution_count": 1,
   "metadata": {},
   "outputs": [],
   "source": [
    "import pandas as pd\n",
    "import os"
   ]
  },
  {
   "cell_type": "code",
   "execution_count": 2,
   "metadata": {},
   "outputs": [],
   "source": [
    "# fruits.parquet\n",
    "df1_fruits = pd.read_parquet(\"../datasets/dataset_1/fruits.parquet\")\n",
    "df1_fruits = df1_fruits.rename(columns={\"fruit\": \"ingredients\"})\n",
    "df1_fruits.to_parquet(\"../datasets/dataset_1/fruits.parquet\")"
   ]
  },
  {
   "cell_type": "code",
   "execution_count": 3,
   "metadata": {},
   "outputs": [],
   "source": [
    "# vegetables_seafood.parquet\n",
    "df1_vegetables_seafood = pd.read_parquet(\"../datasets/dataset_1/vegetables_seafood.parquet\")\n",
    "df1_vegetables_seafood = df1_vegetables_seafood.rename(columns={\"Food and Serving\": \"ingredients\"})\n",
    "df1_vegetables_seafood.to_parquet(\"../datasets/dataset_1/vegetables_seafood.parquet\")"
   ]
  },
  {
   "cell_type": "code",
   "execution_count": 4,
   "metadata": {},
   "outputs": [],
   "source": [
    "# vegetables.parquet\n",
    "df1_vegetables = pd.read_parquet(\"../datasets/dataset_1/vegetables.parquet\")\n",
    "df1_vegetables = df1_vegetables.rename(columns={\"Name\": \"ingredients\"})\n",
    "df1_vegetables.to_parquet(\"../datasets/dataset_1/vegetables.parquet\")"
   ]
  },
  {
   "cell_type": "code",
   "execution_count": 5,
   "metadata": {},
   "outputs": [],
   "source": [
    "# Create a list of file paths\n",
    "file_paths_ds2 = [\"../datasets/dataset_2/all-recipes_0.parquet\", \"../datasets/dataset_2/all-recipes_1.parquet\", \"../datasets/dataset_2/all-recipes_2.parquet\", \"../datasets/dataset_2/all-recipes_3.parquet\"]\n",
    "\n",
    "# Load, rename, and overwrite each file\n",
    "for path in file_paths_ds2:\n",
    "    df = pd.read_parquet(path)\n",
    "    df = df.rename(columns={\"input\": \"ingredients\"})\n",
    "    df.to_parquet(path, index=False)  # Overwrite the original file"
   ]
  },
  {
   "cell_type": "code",
   "execution_count": 6,
   "metadata": {},
   "outputs": [],
   "source": [
    "def merge_parquet_folder(folder_path, output_file):\n",
    "    \"\"\"\n",
    "    Load all .parquet files from a folder, merge them, and save to output_file.\n",
    "\n",
    "    Args:\n",
    "        folder_path (str): Path to the folder containing .parquet files.\n",
    "        output_file (str): Output .parquet file path (e.g. \"merged.parquet\").\n",
    "\n",
    "    Returns:\n",
    "        pd.DataFrame: The merged DataFrame.\n",
    "    \"\"\"\n",
    "    # List all .parquet files in the folder\n",
    "    parquet_files = [os.path.join(folder_path, f)\n",
    "                     for f in os.listdir(folder_path)\n",
    "                     if f.endswith('.parquet')]\n",
    "\n",
    "    if not parquet_files:\n",
    "        raise ValueError(\"No .parquet files found in folder: \" + folder_path)\n",
    "\n",
    "    # Load all files into a list of DataFrames\n",
    "    dataframes = [pd.read_parquet(file) for file in sorted(parquet_files)]\n",
    "\n",
    "    # Merge into a single DataFrame\n",
    "    merged_df = pd.concat(dataframes, ignore_index=True)\n",
    "\n",
    "    # Save to output\n",
    "    merged_df.to_parquet(output_file)\n",
    "\n",
    "    print(f\"Merged {len(parquet_files)} files into {output_file}\")\n",
    "    return merged_df"
   ]
  },
  {
   "cell_type": "code",
   "execution_count": 8,
   "metadata": {},
   "outputs": [
    {
     "name": "stdout",
     "output_type": "stream",
     "text": [
      "Merged 3 files into ../datasets/dataset_1.parquet\n",
      "Merged 4 files into ../datasets/dataset_2.parquet\n",
      "Merged 1 files into ../datasets/dataset_3.parquet\n"
     ]
    }
   ],
   "source": [
    "dataset_1 = merge_parquet_folder(\"../datasets/dataset_1\", \"../datasets/dataset_1.parquet\")\n",
    "dataset_2 = merge_parquet_folder(\"../datasets/dataset_2\", \"../datasets/dataset_2.parquet\")\n",
    "dataset_3 = merge_parquet_folder(\"../datasets/dataset_3\", \"../datasets/dataset_3.parquet\")"
   ]
  }
 ],
 "metadata": {
  "kernelspec": {
   "display_name": "Python 3 (ipykernel)",
   "language": "python",
   "name": "python3"
  },
  "language_info": {
   "codemirror_mode": {
    "name": "ipython",
    "version": 3
   },
   "file_extension": ".py",
   "mimetype": "text/x-python",
   "name": "python",
   "nbconvert_exporter": "python",
   "pygments_lexer": "ipython3",
   "version": "3.12.11"
  }
 },
 "nbformat": 4,
 "nbformat_minor": 4
}
