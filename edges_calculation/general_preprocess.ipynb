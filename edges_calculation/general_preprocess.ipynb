{
 "cells": [
  {
   "cell_type": "code",
   "execution_count": 14,
   "metadata": {},
   "outputs": [],
   "source": [
    "import pandas as pd\n",
    "import os"
   ]
  },
  {
   "cell_type": "code",
   "execution_count": 4,
   "metadata": {},
   "outputs": [],
   "source": [
    "# fruits.parquet\n",
    "df1_fruits = pd.read_parquet(\"../datasets/dataset_1/fruits.parquet\")\n",
    "df1_fruits = df1_fruits.rename(columns={\"fruit\": \"ingredients\"})\n",
    "df1_fruits.to_parquet(\"../datasets/dataset_1/fruits.parquet\")"
   ]
  },
  {
   "cell_type": "code",
   "execution_count": 5,
   "metadata": {},
   "outputs": [],
   "source": [
    "# vegetables_seafood.parquet\n",
    "df1_vegetables_seafood = pd.read_parquet(\"../datasets/dataset_1/vegetables_seafood.parquet\")\n",
    "df1_vegetables_seafood = df1_vegetables_seafood.rename(columns={\"Food and Serving\": \"ingredients\"})\n",
    "df1_vegetables_seafood.to_parquet(\"../datasets/dataset_1/vegetables_seafood.parquet\")"
   ]
  },
  {
   "cell_type": "code",
   "execution_count": 6,
   "metadata": {},
   "outputs": [],
   "source": [
    "# vegetables.parquet\n",
    "df1_vegetables = pd.read_parquet(\"../datasets/dataset_1/vegetables.parquet\")\n",
    "df1_vegetables = df1_vegetables.rename(columns={\"Name\": \"ingredients\"})\n",
    "df1_vegetables.to_parquet(\"../datasets/dataset_1/vegetables.parquet\")"
   ]
  },
  {
   "cell_type": "code",
   "execution_count": 17,
   "metadata": {},
   "outputs": [],
   "source": [
    "# Create a list of file paths\n",
    "file_paths_ds2 = [\"../datasets/dataset_2/all-recipes_0.parquet\", \"../datasets/dataset_2/all-recipes_1.parquet\", \"../datasets/dataset_2/all-recipes_2.parquet\", \"../datasets/dataset_2/all-recipes_3.parquet\"]\n",
    "\n",
    "# Load, rename, and overwrite each file\n",
    "for path in file_paths_ds2:\n",
    "    df = pd.read_parquet(path)\n",
    "    df = df.rename(columns={\"input\": \"ingredients\"})\n",
    "    df.to_parquet(path, index=False)  # Overwrite the original file"
   ]
  }
 ],
 "metadata": {
  "kernelspec": {
   "display_name": "Graph-of-Models",
   "language": "python",
   "name": "python3"
  },
  "language_info": {
   "codemirror_mode": {
    "name": "ipython",
    "version": 3
   },
   "file_extension": ".py",
   "mimetype": "text/x-python",
   "name": "python",
   "nbconvert_exporter": "python",
   "pygments_lexer": "ipython3",
   "version": "3.12.11"
  }
 },
 "nbformat": 4,
 "nbformat_minor": 2
}
