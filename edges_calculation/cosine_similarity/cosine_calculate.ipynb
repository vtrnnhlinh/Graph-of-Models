{
 "cells": [
  {
   "cell_type": "code",
   "execution_count": 1,
   "metadata": {},
   "outputs": [],
   "source": [
    "import pandas as pd\n",
    "from sklearn.feature_extraction.text import TfidfVectorizer\n",
    "from sklearn.preprocessing import normalize\n",
    "from sklearn.metrics.pairwise import cosine_similarity\n",
    "import numpy as np\n",
    "import os"
   ]
  },
  {
   "cell_type": "code",
   "execution_count": 2,
   "metadata": {},
   "outputs": [],
   "source": [
    "# Load datasets\n",
    "dataset_1 = pd.read_parquet(\"../../datasets/dataset_1.parquet\")\n",
    "dataset_2 = pd.read_parquet(\"../../datasets/dataset_2.parquet\")\n",
    "dataset_3 = pd.read_parquet(\"../../datasets/dataset_3.parquet\")"
   ]
  },
  {
   "cell_type": "code",
   "execution_count": 3,
   "metadata": {},
   "outputs": [],
   "source": [
    "def clean_ingredients(df: pd.DataFrame) -> pd.Series:\n",
    "    \"\"\"Clean ingredient strings by filling NA and converting to string.\"\"\"\n",
    "    return df['ingredients'].fillna(\"\").astype(str)\n",
    "\n",
    "ingredients_1 = clean_ingredients(dataset_1)\n",
    "ingredients_2 = clean_ingredients(dataset_2)\n",
    "ingredients_3 = clean_ingredients(dataset_3)\n"
   ]
  },
  {
   "cell_type": "code",
   "execution_count": 4,
   "metadata": {},
   "outputs": [],
   "source": [
    "# ----------------------\n",
    "# TF-IDF Vectorization\n",
    "# ----------------------\n",
    "vectorizer = TfidfVectorizer(stop_words='english', max_features=10000)\n",
    "tfidf_1 = vectorizer.fit_transform(ingredients_1)\n",
    "tfidf_2 = vectorizer.transform(ingredients_2)\n",
    "tfidf_3 = vectorizer.transform(ingredients_3)\n",
    "\n",
    "# Normalize vectors\n",
    "tfidf_1 = normalize(tfidf_1, norm='l2', axis=1)\n",
    "tfidf_2 = normalize(tfidf_2, norm='l2', axis=1)\n",
    "tfidf_3 = normalize(tfidf_3, norm='l2', axis=1)"
   ]
  },
  {
   "cell_type": "code",
   "execution_count": 5,
   "metadata": {},
   "outputs": [],
   "source": [
    "# ----------------------\n",
    "# Compute Average Cosine Similarities\n",
    "# ----------------------\n",
    "def avg_cosine(tfidf_a, tfidf_b):\n",
    "    return cosine_similarity(tfidf_a, tfidf_b).mean()\n",
    "\n",
    "sim_1_2 = avg_cosine(tfidf_1, tfidf_2)\n",
    "sim_1_3 = avg_cosine(tfidf_1, tfidf_3)\n",
    "sim_2_3 = avg_cosine(tfidf_2, tfidf_3)\n",
    "\n",
    "# Construct symmetric similarity matrix\n",
    "sim_matrix = np.array([\n",
    "    [1.0,     sim_1_2, sim_1_3],\n",
    "    [sim_1_2, 1.0,     sim_2_3],\n",
    "    [sim_1_3, sim_2_3, 1.0]\n",
    "])"
   ]
  },
  {
   "cell_type": "code",
   "execution_count": 6,
   "metadata": {},
   "outputs": [
    {
     "name": "stdout",
     "output_type": "stream",
     "text": [
      "Average Cosine Similarity Matrix:\n",
      "           dataset_1  dataset_2  dataset_3\n",
      "dataset_1   1.000000   0.012810   0.013978\n",
      "dataset_2   0.012810   1.000000   0.043379\n",
      "dataset_3   0.013978   0.043379   1.000000\n"
     ]
    }
   ],
   "source": [
    "\n",
    "# ----------------------\n",
    "# Save as CSV\n",
    "# ----------------------\n",
    "labels = [\"dataset_1\", \"dataset_2\", \"dataset_3\"]\n",
    "sim_df = pd.DataFrame(sim_matrix, index=labels, columns=labels)\n",
    "\n",
    "output_dir = \"results\"\n",
    "os.makedirs(output_dir, exist_ok=True)\n",
    "sim_df.to_csv(os.path.join(output_dir, \"avg_cosine_similarity_matrix.csv\"))\n",
    "\n",
    "# ----------------------\n",
    "# Print result\n",
    "# ----------------------\n",
    "print(\"Average Cosine Similarity Matrix:\")\n",
    "print(sim_df)"
   ]
  }
 ],
 "metadata": {
  "kernelspec": {
   "display_name": "Graph-of-Models",
   "language": "python",
   "name": "python3"
  },
  "language_info": {
   "codemirror_mode": {
    "name": "ipython",
    "version": 3
   },
   "file_extension": ".py",
   "mimetype": "text/x-python",
   "name": "python",
   "nbconvert_exporter": "python",
   "pygments_lexer": "ipython3",
   "version": "3.12.11"
  }
 },
 "nbformat": 4,
 "nbformat_minor": 2
}
